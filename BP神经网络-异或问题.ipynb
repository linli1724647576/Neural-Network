{
 "cells": [
  {
   "cell_type": "code",
   "execution_count": 1,
   "metadata": {},
   "outputs": [],
   "source": [
    "import numpy as np"
   ]
  },
  {
   "cell_type": "code",
   "execution_count": 2,
   "metadata": {},
   "outputs": [
    {
     "name": "stdout",
     "output_type": "stream",
     "text": [
      "[[ 0.45351321 -0.31894805 -0.7458763   0.4053608 ]\n",
      " [ 0.712348   -0.75128113 -0.44691941 -0.08700177]\n",
      " [ 0.4251679   0.43617922 -0.1939801  -0.42499698]]\n",
      "[[0.4762917 ]\n",
      " [0.49606807]\n",
      " [0.65692   ]\n",
      " [0.80087638]]\n"
     ]
    }
   ],
   "source": [
    "#输入数据\n",
    "X = np.array([[1,0,0],\n",
    "              [1,0,1],\n",
    "              [1,1,0],\n",
    "              [1,1,1]])\n",
    "#标签\n",
    "Y = np.array([[0,1,1,0]])\n",
    "#权值初始化，取值范围-1到1\n",
    "V = np.random.random((3,4))*2-1 \n",
    "W = np.random.random((4,1))*2-1\n",
    "print(V)\n",
    "print(W)\n",
    "#学习率设置\n",
    "lr = 0.11\n",
    "\n",
    "def sigmoid(x):\n",
    "    return 1/(1+np.exp(-x))\n",
    "\n",
    "def dsigmoid(x):  #sigmoid的导数\n",
    "    return x*(1-x)\n",
    "\n",
    "def update():\n",
    "    global X,Y,W,V,lr\n",
    "    \n",
    "    L1 = sigmoid(np.dot(X,V))#隐藏层输出(4,4)\n",
    "    L2 = sigmoid(np.dot(L1,W))#输出层输出(4,1)\n",
    "    \n",
    "    L2_delta = (Y.T - L2)*dsigmoid(L2)\n",
    "    L1_delta = L2_delta.dot(W.T)*dsigmoid(L1)\n",
    "    \n",
    "    W_C = lr*L1.T.dot(L2_delta)\n",
    "    V_C = lr*X.T.dot(L1_delta)\n",
    "    \n",
    "    W = W + W_C\n",
    "    V = V + V_C"
   ]
  },
  {
   "cell_type": "code",
   "execution_count": 3,
   "metadata": {},
   "outputs": [
    {
     "name": "stdout",
     "output_type": "stream",
     "text": [
      "Error: 0.4992098482462489\n",
      "Error: 0.5001822489723924\n",
      "Error: 0.4998436601839132\n",
      "Error: 0.49942675108491763\n",
      "Error: 0.49854350219100646\n",
      "Error: 0.49589862657157363\n",
      "Error: 0.4863204143221485\n",
      "Error: 0.45834605307996024\n",
      "Error: 0.4176151085644827\n",
      "Error: 0.3804392343251921\n",
      "Error: 0.34127531423040813\n",
      "Error: 0.2578139109156126\n",
      "Error: 0.16934597307497748\n",
      "Error: 0.12453032431093806\n",
      "Error: 0.10005365197009156\n",
      "Error: 0.08481152496371526\n",
      "Error: 0.0743801633333893\n",
      "Error: 0.06675369190343491\n",
      "Error: 0.060905427868935526\n",
      "Error: 0.05625769620503522\n",
      "Error: 0.052460736268040556\n",
      "Error: 0.049290202197416685\n",
      "Error: 0.04659537076700852\n",
      "Error: 0.04427107243376421\n",
      "Error: 0.04224157657696884\n",
      "Error: 0.040450884048937735\n",
      "Error: 0.038856636942982185\n",
      "Error: 0.03742616263244191\n",
      "Error: 0.036133825826401726\n",
      "Error: 0.034959209127802385\n",
      "Error: 0.03388583374158297\n",
      "Error: 0.03290024143074452\n",
      "Error: 0.031991323609506406\n",
      "Error: 0.031149822970656327\n",
      "Error: 0.03036795778178773\n",
      "Error: 0.02963913484778234\n",
      "Error: 0.028957727530054697\n",
      "Error: 0.028318902157113017\n",
      "Error: 0.02771848088408489\n",
      "Error: 0.027152832324249365\n",
      "[[0.0213492 ]\n",
      " [0.9738751 ]\n",
      " [0.96953351]\n",
      " [0.0285387 ]]\n",
      "0\n",
      "1\n",
      "1\n",
      "0\n"
     ]
    }
   ],
   "source": [
    "for i in range(20000):\n",
    "    update()#更新权值\n",
    "    if i%500==0:\n",
    "        L1 = sigmoid(np.dot(X,V))#隐藏层输出(4,4)\n",
    "        L2 = sigmoid(np.dot(L1,W))#输出层输出(4,1)\n",
    "        print('Error:',np.mean(np.abs(Y.T-L2)))\n",
    "        \n",
    "L1 = sigmoid(np.dot(X,V))#隐藏层输出(4,4)\n",
    "L2 = sigmoid(np.dot(L1,W))#输出层输出(4,1)\n",
    "print(L2)\n",
    "\n",
    "def judge(x):\n",
    "    if x>=0.5:\n",
    "        return 1\n",
    "    else:\n",
    "        return 0\n",
    "\n",
    "for i in map(judge,L2):\n",
    "    print(i)"
   ]
  },
  {
   "cell_type": "code",
   "execution_count": null,
   "metadata": {},
   "outputs": [],
   "source": []
  },
  {
   "cell_type": "code",
   "execution_count": null,
   "metadata": {},
   "outputs": [],
   "source": []
  }
 ],
 "metadata": {
  "anaconda-cloud": {},
  "kernelspec": {
   "display_name": "Python 3",
   "language": "python",
   "name": "python3"
  },
  "language_info": {
   "codemirror_mode": {
    "name": "ipython",
    "version": 3
   },
   "file_extension": ".py",
   "mimetype": "text/x-python",
   "name": "python",
   "nbconvert_exporter": "python",
   "pygments_lexer": "ipython3",
   "version": "3.7.4"
  }
 },
 "nbformat": 4,
 "nbformat_minor": 1
}
